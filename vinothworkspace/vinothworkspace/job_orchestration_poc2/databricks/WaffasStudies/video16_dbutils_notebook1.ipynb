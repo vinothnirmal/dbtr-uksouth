{
 "cells": [
  {
   "cell_type": "code",
   "execution_count": 0,
   "metadata": {
    "application/vnd.databricks.v1+cell": {
     "cellMetadata": {
      "byteLimit": 2048000,
      "rowLimit": 10000
     },
     "inputWidgets": {},
     "nuid": "0d869dbf-28c2-4da3-a75f-3d52c7693d37",
     "showTitle": false,
     "tableResultSettingsMap": {},
     "title": ""
    }
   },
   "outputs": [],
   "source": [
    "dbutils.widgets.text(name=\"dbfsfilepath\",defaultValue=\"/FileStore/TestData/dbwidget_emp.csv\",label=\"dbfsfilepath\")\n",
    "dbutils.widgets.text(name=\"DOB\",defaultValue=\"1985\",label=\"DOB\")\n"
   ]
  },
  {
   "cell_type": "code",
   "execution_count": 0,
   "metadata": {
    "application/vnd.databricks.v1+cell": {
     "cellMetadata": {
      "byteLimit": 2048000,
      "rowLimit": 10000
     },
     "inputWidgets": {},
     "nuid": "b9eee879-9603-435b-bb72-9dedc460e368",
     "showTitle": false,
     "tableResultSettingsMap": {},
     "title": ""
    }
   },
   "outputs": [],
   "source": [
    "col = \"ID int,Name string,DOB int,Gender string\"\n",
    "data = [(1,\"Vinoth\",1988,\"M\"),\n",
    "        (2,\"Sathya\",1994,\"F\"),\n",
    "        (3,\"Thanu\",2016,\"F\"),\n",
    "        (4,\"Sirpiga\",2021,\"F\")]\n",
    "df = spark.createDataFrame(data, col)\n",
    "df.display()"
   ]
  },
  {
   "cell_type": "code",
   "execution_count": 0,
   "metadata": {
    "application/vnd.databricks.v1+cell": {
     "cellMetadata": {
      "byteLimit": 2048000,
      "rowLimit": 10000
     },
     "inputWidgets": {},
     "nuid": "86ed1d53-155c-4a13-b512-a38d8758baff",
     "showTitle": false,
     "tableResultSettingsMap": {},
     "title": ""
    }
   },
   "outputs": [],
   "source": [
    "dummyfilepath = \"/FileStore/TestData/templocation\"\n",
    "df1 = df.filter(df.DOB > dbutils.widgets.get(\"DOB\"))\n",
    "display(df1)\n",
    "df1.coalesce(1).write.format(\"csv\").mode(\"overwrite\").save(dummyfilepath)\n",
    "#dbutils.fs.head(filepath)\n",
    "# display(dbutils.fs.ls(filepath))\n",
    "# dbutils.fs.rm(filepath,True)"
   ]
  },
  {
   "cell_type": "code",
   "execution_count": 0,
   "metadata": {
    "application/vnd.databricks.v1+cell": {
     "cellMetadata": {
      "byteLimit": 2048000,
      "rowLimit": 10000
     },
     "inputWidgets": {},
     "nuid": "3017cc46-c0e1-46ad-b175-74342d5a1af2",
     "showTitle": false,
     "tableResultSettingsMap": {},
     "title": ""
    }
   },
   "outputs": [],
   "source": [
    "for fPath in dbutils.fs.ls(dummyfilepath):\n",
    "   if(fPath.path.endswith(\"csv\")):\n",
    "       cpfilepath = fPath.path\n",
    "output_path = dbutils.widgets.get(\"dbfsfilepath\")\n",
    "dbutils.fs.cp(cpfilepath,output_path)\n",
    "# display(dbutils.fs.ls(output_path))\n",
    "# dbutils.fs.rm(\"/FileStore/TestData/dbwidget_emp.csv\",True)\n",
    "print(dbutils.fs.head(output_path))"
   ]
  }
 ],
 "metadata": {
  "application/vnd.databricks.v1+notebook": {
   "computePreferences": null,
   "dashboards": [],
   "environmentMetadata": {
    "base_environment": "",
    "environment_version": "2"
   },
   "inputWidgetPreferences": null,
   "language": "python",
   "notebookMetadata": {
    "pythonIndentUnit": 4
   },
   "notebookName": "video16_dbutils_notebook1",
   "widgets": {
    "DOB": {
     "currentValue": "1985",
     "nuid": "f15e7a81-91fe-4837-8c75-218b449d74bd",
     "typedWidgetInfo": {
      "autoCreated": false,
      "defaultValue": "1985",
      "label": "DOB",
      "name": "DOB",
      "options": {
       "widgetDisplayType": "Text",
       "validationRegex": null
      },
      "parameterDataType": "String"
     },
     "widgetInfo": {
      "widgetType": "text",
      "defaultValue": "1985",
      "label": "DOB",
      "name": "DOB",
      "options": {
       "widgetType": "text",
       "autoCreated": null,
       "validationRegex": null
      }
     }
    },
    "dbfsfilepath": {
     "currentValue": "/FileStore/TestData/dbwidget_emp.csv",
     "nuid": "cfc3f21c-78f3-45de-b1a6-1e9a71bb1bdd",
     "typedWidgetInfo": {
      "autoCreated": false,
      "defaultValue": "/FileStore/TestData/dbwidget_emp.csv",
      "label": "dbfsfilepath",
      "name": "dbfsfilepath",
      "options": {
       "widgetDisplayType": "Text",
       "validationRegex": null
      },
      "parameterDataType": "String"
     },
     "widgetInfo": {
      "widgetType": "text",
      "defaultValue": "/FileStore/TestData/dbwidget_emp.csv",
      "label": "dbfsfilepath",
      "name": "dbfsfilepath",
      "options": {
       "widgetType": "text",
       "autoCreated": null,
       "validationRegex": null
      }
     }
    }
   }
  },
  "language_info": {
   "name": "python"
  }
 },
 "nbformat": 4,
 "nbformat_minor": 0
}
