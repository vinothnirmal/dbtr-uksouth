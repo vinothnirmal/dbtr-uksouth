{
 "cells": [
  {
   "cell_type": "code",
   "execution_count": 0,
   "metadata": {
    "application/vnd.databricks.v1+cell": {
     "cellMetadata": {
      "byteLimit": 2048000,
      "rowLimit": 10000
     },
     "inputWidgets": {},
     "nuid": "1c280284-fef7-4455-b864-7c5dab2d218d",
     "showTitle": false,
     "tableResultSettingsMap": {},
     "title": ""
    }
   },
   "outputs": [],
   "source": [
    "%python\n",
    "import logging,sys\n",
    "sys.path.append(\"/dbfs/FileStore/tables/log_poc\")\n",
    "\n",
    "# Create a logger object\n",
    "logger = logging.getLogger('databricks_notebook')\n",
    "logger.setLevel(logging.DEBUG)  # Set the logging level\n",
    "\n",
    "# Create a file handler to write logs to a file in DBFS\n",
    "file_handler = logging.FileHandler(\"/dbfs/FileStore/tables/log_poc/mylog.txt\")\n",
    "file_handler.setLevel(logging.DEBUG)\n",
    "\n",
    "# Create a formatter and set it for the file handler\n",
    "formatter = logging.Formatter('%(asctime)s - %(name)s - %(levelname)s - %(message)s')\n",
    "file_handler.setFormatter(formatter)\n",
    "\n",
    "# Add the file handler to the logger\n",
    "logger.addHandler(file_handler)\n"
   ]
  },
  {
   "cell_type": "code",
   "execution_count": 0,
   "metadata": {
    "application/vnd.databricks.v1+cell": {
     "cellMetadata": {
      "byteLimit": 2048000,
      "rowLimit": 10000
     },
     "inputWidgets": {},
     "nuid": "ba52e38a-e31e-4236-ab36-c06b41642210",
     "showTitle": false,
     "tableResultSettingsMap": {},
     "title": ""
    }
   },
   "outputs": [],
   "source": [
    "%python\n",
    "# Example log messages\n",
    "logger.info('Starting the notebook execution')\n",
    "try:\n",
    "    # Your code here\n",
    "    logger.info('This is an informational message')\n",
    "    # Simulate an error\n",
    "    1 / 0\n",
    "except Exception as e:\n",
    "    logger.error('An error occurred: %s', e)\n",
    "logger.info('Finished the notebook execution')"
   ]
  }
 ],
 "metadata": {
  "application/vnd.databricks.v1+notebook": {
   "computePreferences": null,
   "dashboards": [],
   "environmentMetadata": {
    "base_environment": "",
    "environment_version": "2"
   },
   "inputWidgetPreferences": null,
   "language": "python",
   "notebookMetadata": {
    "pythonIndentUnit": 4
   },
   "notebookName": "log_demo",
   "widgets": {}
  },
  "language_info": {
   "name": "python"
  }
 },
 "nbformat": 4,
 "nbformat_minor": 0
}
