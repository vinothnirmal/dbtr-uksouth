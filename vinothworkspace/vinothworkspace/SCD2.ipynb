{
 "cells": [
  {
   "cell_type": "code",
   "execution_count": 0,
   "metadata": {
    "application/vnd.databricks.v1+cell": {
     "cellMetadata": {
      "byteLimit": 2048000,
      "rowLimit": 10000
     },
     "inputWidgets": {},
     "nuid": "320f9259-2c81-4f1f-b7e8-fa907916045b",
     "showTitle": false,
     "tableResultSettingsMap": {},
     "title": ""
    }
   },
   "outputs": [],
   "source": [
    "from pyspark.sql.functions import current_timestamp,when,col,coalesce,lit\n",
    "from pyspark.sql.types import StructField,StructType,StringType,IntegerType,TimestampType\n",
    "from delta.tables import *"
   ]
  },
  {
   "cell_type": "code",
   "execution_count": 0,
   "metadata": {
    "application/vnd.databricks.v1+cell": {
     "cellMetadata": {
      "byteLimit": 2048000,
      "rowLimit": 10000
     },
     "inputWidgets": {},
     "nuid": "eda3a51d-fe89-4242-a90d-387d35d2f90c",
     "showTitle": false,
     "tableResultSettingsMap": {},
     "title": ""
    }
   },
   "outputs": [],
   "source": [
    "dbutils.fs.rm(\"/FileStore/tables/scd2\",True)"
   ]
  },
  {
   "cell_type": "code",
   "execution_count": 0,
   "metadata": {
    "application/vnd.databricks.v1+cell": {
     "cellMetadata": {
      "byteLimit": 2048000,
      "implicitDf": true,
      "rowLimit": 10000
     },
     "inputWidgets": {},
     "nuid": "1dc4587a-a7f0-4341-9303-e88d48601acc",
     "showTitle": false,
     "tableResultSettingsMap": {},
     "title": ""
    }
   },
   "outputs": [],
   "source": [
    "%sql\n",
    "drop table if exists emp.scd2"
   ]
  },
  {
   "cell_type": "code",
   "execution_count": 0,
   "metadata": {
    "application/vnd.databricks.v1+cell": {
     "cellMetadata": {
      "byteLimit": 2048000,
      "implicitDf": true,
      "rowLimit": 10000
     },
     "inputWidgets": {},
     "nuid": "63dcc148-3f2c-47cf-bd4c-fd80c0821428",
     "showTitle": false,
     "tableResultSettingsMap": {},
     "title": ""
    }
   },
   "outputs": [],
   "source": [
    "%sql\n",
    "create schema if not exists emp;\n",
    "create table if not exists emp.scd2\n",
    "(\n",
    "  id int,\n",
    "  name string,\n",
    "  mobile string,\n",
    "  version int,\n",
    "  datetime timestamp,\n",
    "  Status string\n",
    ")using delta\n",
    "location '/FileStore/tables/scd2';\n",
    "\n",
    "insert into emp.scd2 values (1,'Vinoth Sakkaraivel','8884117632',1,current_timestamp(),'Active'),(2,'Sathya','8792810778',0,current_timestamp(),'Active');"
   ]
  },
  {
   "cell_type": "code",
   "execution_count": 0,
   "metadata": {
    "application/vnd.databricks.v1+cell": {
     "cellMetadata": {
      "byteLimit": 2048000,
      "implicitDf": true,
      "rowLimit": 10000
     },
     "inputWidgets": {},
     "nuid": "e67513b0-5f08-48b9-9db1-56698e6ac102",
     "showTitle": false,
     "tableResultSettingsMap": {},
     "title": ""
    }
   },
   "outputs": [],
   "source": [
    "%sql\n",
    "select * from emp.scd2;"
   ]
  },
  {
   "cell_type": "code",
   "execution_count": 0,
   "metadata": {
    "application/vnd.databricks.v1+cell": {
     "cellMetadata": {
      "byteLimit": 2048000,
      "rowLimit": 10000
     },
     "inputWidgets": {},
     "nuid": "ad9e958c-473f-45bd-aaa9-391bd7c83c39",
     "showTitle": true,
     "tableResultSettingsMap": {},
     "title": "Creating a deltainstance table"
    }
   },
   "outputs": [],
   "source": [
    "dt = DeltaTable.forName(spark,'emp.scd2')\n",
    "df = dt.toDF()\n",
    "df.display()"
   ]
  },
  {
   "cell_type": "code",
   "execution_count": 0,
   "metadata": {
    "application/vnd.databricks.v1+cell": {
     "cellMetadata": {
      "byteLimit": 2048000,
      "rowLimit": 10000
     },
     "inputWidgets": {},
     "nuid": "6ae0bf38-b4e9-4254-8dd7-74059370800f",
     "showTitle": true,
     "tableResultSettingsMap": {},
     "title": "New data to inserted"
    }
   },
   "outputs": [],
   "source": [
    "emp_data = [(1,'Vinoth S','+91 8884117632'),\n",
    "            (3,'ThanuMithra','9999999989'),\n",
    "            (4,'SirpigaVS','1111111'),\n",
    "            (2,'Sathya A','+91 8792810778')]\n",
    "\n",
    "emp_schema = StructType([StructField('id',IntegerType(),True),\n",
    "                         StructField('name',StringType(),True),\n",
    "                         StructField('mobile',StringType(),True)])\n",
    "df1 = spark.createDataFrame(emp_data,emp_schema).withColumn('datetime',current_timestamp())\n",
    "df1.display()"
   ]
  },
  {
   "cell_type": "code",
   "execution_count": 0,
   "metadata": {
    "application/vnd.databricks.v1+cell": {
     "cellMetadata": {
      "byteLimit": 2048000,
      "rowLimit": 10000
     },
     "inputWidgets": {},
     "nuid": "fe80d11c-0fe0-4005-8dc3-3778cf690685",
     "showTitle": true,
     "tableResultSettingsMap": {},
     "title": "Doing outer join to get all datas"
    }
   },
   "outputs": [],
   "source": [
    "df2 = df.join(df1,df.id == df1.id,'outer').select(df['*'],df1.id.alias('nwid'),df1.name.alias('nwname'),df1.mobile.alias('nwmobile'))\n",
    "df2.display()"
   ]
  },
  {
   "cell_type": "code",
   "execution_count": 0,
   "metadata": {
    "application/vnd.databricks.v1+cell": {
     "cellMetadata": {
      "byteLimit": 2048000,
      "rowLimit": 10000
     },
     "inputWidgets": {},
     "nuid": "11d6d062-64cf-476b-8250-8ff372d9247d",
     "showTitle": true,
     "tableResultSettingsMap": {},
     "title": "Filtering column that needs update and insert"
    }
   },
   "outputs": [],
   "source": [
    "df2 = df2.withColumn('Status',when(((df2.nwid.isNull()) & (df2.id.isNotNull())),'NA').when(((df2.nwid.isNotNull()) & (df2.id.isNull())),'New').otherwise('Update')).withColumn('Version',lit(0))\n",
    "df2 = df2.filter(df2.Status != 'NA')\n",
    "df2.display()"
   ]
  },
  {
   "cell_type": "code",
   "execution_count": 0,
   "metadata": {
    "application/vnd.databricks.v1+cell": {
     "cellMetadata": {
      "byteLimit": 2048000,
      "rowLimit": 10000
     },
     "inputWidgets": {},
     "nuid": "d4ef6bf1-420c-46ec-b55d-55de74529954",
     "showTitle": true,
     "tableResultSettingsMap": {},
     "title": "creating a copy of main df"
    }
   },
   "outputs": [],
   "source": [
    "df_copy = df\n",
    "df_copy.display()"
   ]
  },
  {
   "cell_type": "code",
   "execution_count": 0,
   "metadata": {
    "application/vnd.databricks.v1+cell": {
     "cellMetadata": {
      "byteLimit": 2048000,
      "rowLimit": 10000
     },
     "inputWidgets": {},
     "nuid": "97967195-3a98-4f60-9556-d41f58771b36",
     "showTitle": true,
     "tableResultSettingsMap": {},
     "title": "Filtering records that have been recived newly for insert"
    }
   },
   "outputs": [],
   "source": [
    "df_new = df2.filter(df2.Status == 'New').select(df2.nwid,df2.nwname,df2.nwmobile).withColumns({'Version':lit(0),\"datetime\":current_timestamp(),\"Status\":lit(\"Active\")})\n",
    "df_new.display()\n",
    "df_copy = df_copy.unionAll(df_new)\n",
    "df_copy.display()\n"
   ]
  },
  {
   "cell_type": "code",
   "execution_count": 0,
   "metadata": {
    "application/vnd.databricks.v1+cell": {
     "cellMetadata": {
      "byteLimit": 2048000,
      "rowLimit": 10000
     },
     "inputWidgets": {},
     "nuid": "e6cfd10a-466f-405d-875a-52c75338c4aa",
     "showTitle": true,
     "tableResultSettingsMap": {},
     "title": "filtering record which are for update"
    }
   },
   "outputs": [],
   "source": [
    "#display(df2)\n",
    "df_up = df2.filter(df2.Status == 'Update').select(df2.nwid,df2.nwname,df2.nwmobile,df2.Version)\n",
    "df_up.display()"
   ]
  },
  {
   "cell_type": "code",
   "execution_count": 0,
   "metadata": {
    "application/vnd.databricks.v1+cell": {
     "cellMetadata": {
      "byteLimit": 2048000,
      "rowLimit": 10000
     },
     "inputWidgets": {},
     "nuid": "1c8503fc-abce-4df8-8e76-a49aba3f0ba6",
     "showTitle": false,
     "tableResultSettingsMap": {},
     "title": ""
    }
   },
   "outputs": [],
   "source": [
    "#display(df_copy)\n",
    "df3 = df_copy.join(df_up,df_copy.id == df_up.nwid,'left').withColumn('newVersion',when(df_up.nwid.isNotNull(),lit(1)).when(((df_up.nwid.isNull()) & (df_copy.id.isNotNull())),df_copy.version))\n",
    "#df3.display()\n",
    "df4 = df3.select(df3.id,df3.name,df3.mobile,df3.newVersion)\n",
    "df4.display()"
   ]
  },
  {
   "cell_type": "code",
   "execution_count": 0,
   "metadata": {
    "application/vnd.databricks.v1+cell": {
     "cellMetadata": {
      "byteLimit": 2048000,
      "rowLimit": 10000
     },
     "inputWidgets": {},
     "nuid": "7696f306-9ee3-424b-bc8a-954fbc473b23",
     "showTitle": false,
     "tableResultSettingsMap": {},
     "title": ""
    }
   },
   "outputs": [],
   "source": [
    "df = df4.unionAll(df_up).withColumns({'datetime':current_timestamp()})\n",
    "df = df.withColumn('Status',when(df.newVersion == 0,'Active').otherwise('InActive'))\n",
    "df.display()"
   ]
  },
  {
   "cell_type": "code",
   "execution_count": 0,
   "metadata": {
    "application/vnd.databricks.v1+cell": {
     "cellMetadata": {
      "byteLimit": 2048000,
      "rowLimit": 10000
     },
     "inputWidgets": {},
     "nuid": "ec495258-460d-485f-b4af-f91f2182a3e4",
     "showTitle": false,
     "tableResultSettingsMap": {},
     "title": ""
    }
   },
   "outputs": [],
   "source": [
    "df_dup = df.groupBy([\"id\", df.Status]).count().sort(\"id\")\n",
    "#df_dup.display()\n",
    "df_temp = df_dup.filter(col('count') > 2)\n",
    "df_temp.display()"
   ]
  },
  {
   "cell_type": "code",
   "execution_count": 0,
   "metadata": {
    "application/vnd.databricks.v1+cell": {
     "cellMetadata": {
      "byteLimit": 2048000,
      "rowLimit": 10000
     },
     "inputWidgets": {},
     "nuid": "d68dc8a3-14e4-4396-aeee-27dcc26d964e",
     "showTitle": false,
     "tableResultSettingsMap": {},
     "title": ""
    }
   },
   "outputs": [],
   "source": [
    "# Delete rows from DeltaTable where id matches df_temp\n",
    "dt.toDF().display()\n",
    "dt.alias(\"dt\").merge(\n",
    "    df_temp.alias(\"ds\"),\n",
    "    \"(dt.id = ds.id) and (dt.status = 'InActive')\"\n",
    ").whenMatchedDelete().execute()\n",
    "dt.toDF().display()"
   ]
  },
  {
   "cell_type": "code",
   "execution_count": 0,
   "metadata": {
    "application/vnd.databricks.v1+cell": {
     "cellMetadata": {
      "byteLimit": 2048000,
      "rowLimit": 10000
     },
     "inputWidgets": {},
     "nuid": "3810c9a8-ec5a-4e2e-b7c7-7fcdc89a88db",
     "showTitle": false,
     "tableResultSettingsMap": {},
     "title": ""
    }
   },
   "outputs": [],
   "source": [
    "df.createOrReplaceTempView('tmp_emp_scd2')"
   ]
  },
  {
   "cell_type": "code",
   "execution_count": 0,
   "metadata": {
    "application/vnd.databricks.v1+cell": {
     "cellMetadata": {
      "byteLimit": 2048000,
      "implicitDf": true,
      "rowLimit": 10000
     },
     "inputWidgets": {},
     "nuid": "a041c195-268a-4f0c-ad38-9e752bb2c063",
     "showTitle": false,
     "tableResultSettingsMap": {},
     "title": ""
    }
   },
   "outputs": [],
   "source": [
    "%sql\n",
    "select * from tmp_emp_scd2;"
   ]
  },
  {
   "cell_type": "code",
   "execution_count": 0,
   "metadata": {
    "application/vnd.databricks.v1+cell": {
     "cellMetadata": {
      "byteLimit": 2048000,
      "implicitDf": true,
      "rowLimit": 10000
     },
     "inputWidgets": {},
     "nuid": "fa9c7dd7-d098-4499-abfa-281802143a70",
     "showTitle": false,
     "tableResultSettingsMap": {},
     "title": ""
    }
   },
   "outputs": [],
   "source": [
    "%sql\n",
    "select * from emp.scd2"
   ]
  },
  {
   "cell_type": "code",
   "execution_count": 0,
   "metadata": {
    "application/vnd.databricks.v1+cell": {
     "cellMetadata": {
      "byteLimit": 2048000,
      "implicitDf": true,
      "rowLimit": 10000
     },
     "inputWidgets": {},
     "nuid": "ff887cb3-cb23-4a89-a75c-afa5d701a416",
     "showTitle": false,
     "tableResultSettingsMap": {},
     "title": ""
    }
   },
   "outputs": [],
   "source": [
    "%sql\n",
    "MERGE INTO emp.scd2 AS t\n",
    "USING tmp_emp_scd2 AS s\n",
    "ON  t.id = s.id AND t.Status = s.Status\n",
    "WHEN MATCHED THEN\n",
    "  UPDATE SET\n",
    "    t.id = s.id,\n",
    "    t.name = s.name,\n",
    "    t.mobile = s.mobile,\n",
    "    t.version = s.newVersion,\n",
    "    t.datetime = s.datetime,\n",
    "    t.Status = s.Status\n",
    "WHEN NOT MATCHED THEN\n",
    "  INSERT (id, name, mobile,version, datetime, Status)\n",
    "  VALUES (s.id, s.name, s.mobile,s.newVersion, s.datetime, s.Status)"
   ]
  },
  {
   "cell_type": "code",
   "execution_count": 0,
   "metadata": {
    "application/vnd.databricks.v1+cell": {
     "cellMetadata": {
      "byteLimit": 2048000,
      "implicitDf": true,
      "rowLimit": 10000
     },
     "inputWidgets": {},
     "nuid": "278354d1-7f8b-47d7-8215-ef934a089212",
     "showTitle": false,
     "tableResultSettingsMap": {},
     "title": ""
    }
   },
   "outputs": [],
   "source": [
    "%sql\n",
    "select * from emp.scd2 order by 1;"
   ]
  }
 ],
 "metadata": {
  "application/vnd.databricks.v1+notebook": {
   "computePreferences": null,
   "dashboards": [],
   "environmentMetadata": {
    "base_environment": "",
    "environment_version": "1"
   },
   "inputWidgetPreferences": null,
   "language": "python",
   "notebookMetadata": {
    "mostRecentlyExecutedCommandWithImplicitDF": {
     "commandId": 333838926341179,
     "dataframes": [
      "_sqldf"
     ]
    },
    "pythonIndentUnit": 4
   },
   "notebookName": "SCD2",
   "widgets": {}
  },
  "language_info": {
   "name": "python"
  }
 },
 "nbformat": 4,
 "nbformat_minor": 0
}
