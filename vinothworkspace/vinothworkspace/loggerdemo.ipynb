{
 "cells": [
  {
   "cell_type": "code",
   "execution_count": 0,
   "metadata": {
    "application/vnd.databricks.v1+cell": {
     "cellMetadata": {
      "byteLimit": 2048000,
      "rowLimit": 10000
     },
     "inputWidgets": {},
     "nuid": "19f4e4c5-2ea7-407c-bf50-fb99f3e6bb70",
     "showTitle": false,
     "tableResultSettingsMap": {},
     "title": ""
    }
   },
   "outputs": [],
   "source": [
    "%python\n",
    "import sys\n",
    "sys.path.append('/Workspace/Users/vinoth.nirmal@gmail.com/')\n",
    "from logdemoutiltiy import ologger\n",
    "logpath = \"/FileStore/tables/log_poc/\"\n",
    "\n",
    "try:\n",
    "    # Your code here\n",
    "    logger = ologger(logpath)\n",
    "    logger.own_logger(\"Execution started\")\n",
    "                   \n",
    "    # Simulate an error\n",
    "    a = 10\n",
    "    b = 20\n",
    "    c = a + b\n",
    "    a = 90\n",
    "    b = 200\n",
    "    f = a * b\n",
    "    logger.own_logger(f\"Add Result is : {c}\")\n",
    "    logger.own_logger(f\"Mul Result is : {f}\")\n",
    "    a = 1\n",
    "    b = 1\n",
    "    d = a / b\n",
    "    logger.own_logger(f\"Div Result is : {d}\")\n",
    "except Exception as e:\n",
    "    logger.own_logger( f\"Exception is : {e}\")\n",
    "finally:\n",
    "    logger.own_logger(\"Execution completed\")"
   ]
  },
  {
   "cell_type": "code",
   "execution_count": 0,
   "metadata": {
    "application/vnd.databricks.v1+cell": {
     "cellMetadata": {
      "byteLimit": 2048000,
      "rowLimit": 10000
     },
     "inputWidgets": {},
     "nuid": "debe587f-2590-432b-ab29-4fe61d221364",
     "showTitle": false,
     "tableResultSettingsMap": {
      "1": {
       "dataGridStateBlob": null,
       "filterBlob": "{\"version\":1,\"filterGroups\":[],\"syncTimestamp\":1748754649180}",
       "queryPlanFiltersBlob": "[]",
       "tableResultIndex": 1
      }
     },
     "title": ""
    }
   },
   "outputs": [],
   "source": [
    "df = logger.log_display()\n",
    "display(df)\n",
    "df1 = df.filter(df.log_date.contains('2025-06-01'))\n",
    "df1.display()\n"
   ]
  }
 ],
 "metadata": {
  "application/vnd.databricks.v1+notebook": {
   "computePreferences": null,
   "dashboards": [],
   "environmentMetadata": {
    "base_environment": "",
    "environment_version": "2"
   },
   "inputWidgetPreferences": null,
   "language": "python",
   "notebookMetadata": {
    "pythonIndentUnit": 4
   },
   "notebookName": "loggerdemo",
   "widgets": {}
  },
  "language_info": {
   "name": "python"
  }
 },
 "nbformat": 4,
 "nbformat_minor": 0
}
