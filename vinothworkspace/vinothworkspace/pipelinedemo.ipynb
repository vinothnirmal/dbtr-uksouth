{
 "cells": [
  {
   "cell_type": "code",
   "execution_count": 0,
   "metadata": {
    "application/vnd.databricks.v1+cell": {
     "cellMetadata": {},
     "inputWidgets": {},
     "nuid": "4de2acf0-b8bd-458c-9c91-dbafb8ef7527",
     "showTitle": false,
     "tableResultSettingsMap": {},
     "title": ""
    }
   },
   "outputs": [],
   "source": [
    "%sql\n",
    "    CREATE TABLE IF NOT EXISTS platinum.Employee\n",
    "    (\n",
    "      id INT NOT NULL,\n",
    "      Name STRING NOT NULL,\n",
    "      DOB INT NOT NULL,\n",
    "      Gender STRING NOT NULL,\n",
    "      Country STRING,\n",
    "      Email STRING,\n",
    "      FileName STRING,\n",
    "      datetimestamp TIMESTAMP\n",
    "    )"
   ]
  }
 ],
 "metadata": {
  "application/vnd.databricks.v1+notebook": {
   "computePreferences": null,
   "dashboards": [],
   "environmentMetadata": {
    "base_environment": "",
    "environment_version": "2"
   },
   "inputWidgetPreferences": null,
   "language": "python",
   "notebookMetadata": {
    "pythonIndentUnit": 4
   },
   "notebookName": "pipelinedemo",
   "widgets": {}
  },
  "language_info": {
   "name": "python"
  }
 },
 "nbformat": 4,
 "nbformat_minor": 0
}
