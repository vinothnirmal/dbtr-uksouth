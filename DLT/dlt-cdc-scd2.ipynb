{
 "cells": [
  {
   "cell_type": "code",
   "execution_count": 0,
   "metadata": {
    "application/vnd.databricks.v1+cell": {
     "cellMetadata": {
      "byteLimit": 2048000,
      "rowLimit": 10000
     },
     "inputWidgets": {},
     "nuid": "ac272db3-84de-4898-95d5-ba023daf8e40",
     "showTitle": false,
     "tableResultSettingsMap": {},
     "title": ""
    }
   },
   "outputs": [],
   "source": [
    "import dlt\n",
    "from datetime import datetime\n",
    "from pyspark.sql.functions import lit,current_timestamp,date_format,col\n",
    "full_path = \"/Volumes/dltcatalog/dltvolume/volume\""
   ]
  },
  {
   "cell_type": "code",
   "execution_count": 0,
   "metadata": {
    "application/vnd.databricks.v1+cell": {
     "cellMetadata": {
      "byteLimit": 2048000,
      "rowLimit": 10000
     },
     "inputWidgets": {},
     "nuid": "832f1666-9a3a-426f-879e-d8b78aa30465",
     "showTitle": false,
     "tableResultSettingsMap": {},
     "title": ""
    }
   },
   "outputs": [],
   "source": [
    "@dlt.table(name = 'bronze_employee_scd2')\n",
    "def bronze_employee():\n",
    "  df = spark.readStream.format(\"cloudFiles\").option(\"cloudFiles.format\",\"csv\").option(\"header\",\"true\").option(\"sep\",\",\").schema(\"ID int,Name string,DOB int,Gender string,Country string,Email string,ProcessedDate string\").load(full_path)\n",
    "  df = df.withColumn(\"ProcessedDate\",lit(date_format(current_timestamp(),\"yyyy-MM-dd HH:mm:ss\")))\n",
    "  return df"
   ]
  },
  {
   "cell_type": "code",
   "execution_count": 0,
   "metadata": {
    "application/vnd.databricks.v1+cell": {
     "cellMetadata": {},
     "inputWidgets": {},
     "nuid": "e177bb9b-fe32-433b-88c7-45dade617d88",
     "showTitle": false,
     "tableResultSettingsMap": {},
     "title": ""
    }
   },
   "outputs": [],
   "source": [
    "dlt.create_streaming_live_table(\"silver_employee_scd2\")"
   ]
  },
  {
   "cell_type": "code",
   "execution_count": 0,
   "metadata": {
    "application/vnd.databricks.v1+cell": {
     "cellMetadata": {
      "byteLimit": 2048000,
      "rowLimit": 10000
     },
     "inputWidgets": {},
     "nuid": "0960a0ef-35b7-418c-bb0b-edb53a1b748b",
     "showTitle": false,
     "tableResultSettingsMap": {},
     "title": ""
    }
   },
   "outputs": [],
   "source": [
    "dlt.apply_changes(\n",
    "  target = \"silver_employee_scd2\",\n",
    "  source = \"bronze_employee_scd2\",\n",
    "  keys = [\"ID\"],\n",
    "  stored_as_scd_type = 2,\n",
    "  sequence_by = \"ProcessedDate\",\n",
    "  track_history_column_list = [\"ProcessedDate\"]\n",
    ")"
   ]
  },
  {
   "cell_type": "code",
   "execution_count": 0,
   "metadata": {
    "application/vnd.databricks.v1+cell": {
     "cellMetadata": {},
     "inputWidgets": {},
     "nuid": "a66c3a52-f326-4731-b07a-631f0e1e690c",
     "showTitle": false,
     "tableResultSettingsMap": {},
     "title": ""
    }
   },
   "outputs": [],
   "source": [
    "def schema_check():\n",
    "    try:\n",
    "        dlt.create_schema(\"gold\")\n",
    "        print(\"Schema 'gold' created in DLT\")\n",
    "    except Exception as e:\n",
    "        if \"already exists\" in str(e):\n",
    "            print(\"Schema 'gold' already exists in DLT\")\n",
    "        else:\n",
    "            print(\"Error creating schema: \", e)"
   ]
  },
  {
   "cell_type": "code",
   "execution_count": 0,
   "metadata": {
    "application/vnd.databricks.v1+cell": {
     "cellMetadata": {},
     "inputWidgets": {},
     "nuid": "a5e77cc0-86bd-49c6-907c-f1ff067bfc52",
     "showTitle": false,
     "tableResultSettingsMap": {},
     "title": ""
    }
   },
   "outputs": [],
   "source": [
    "@dlt.table(name = 'gold.gold_employee')\n",
    "@dlt.expect(\"checking for current active records\",\"(__END_AT is null)\")\n",
    "def gold_employee():\n",
    "    schema_check()\n",
    "    df = dlt.readStream(\"silver_employee_scd2\")\n",
    "    df = df.withColumn(\"__END_AT\",lit(\"9999-12-30\"))\n",
    "    display(df)\n",
    "    return df"
   ]
  }
 ],
 "metadata": {
  "application/vnd.databricks.v1+notebook": {
   "computePreferences": null,
   "dashboards": [],
   "environmentMetadata": {
    "base_environment": "",
    "environment_version": "2"
   },
   "inputWidgetPreferences": null,
   "language": "python",
   "notebookMetadata": {
    "pythonIndentUnit": 4
   },
   "notebookName": "dlt-cdc-scd2",
   "widgets": {}
  },
  "language_info": {
   "name": "python"
  }
 },
 "nbformat": 4,
 "nbformat_minor": 0
}
