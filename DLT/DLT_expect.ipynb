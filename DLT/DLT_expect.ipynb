{
 "cells": [
  {
   "cell_type": "code",
   "execution_count": 0,
   "metadata": {
    "application/vnd.databricks.v1+cell": {
     "cellMetadata": {
      "byteLimit": 2048000,
      "rowLimit": 10000
     },
     "inputWidgets": {},
     "nuid": "34690dea-681f-4408-80bc-7320b13b63e0",
     "showTitle": false,
     "tableResultSettingsMap": {},
     "title": ""
    }
   },
   "outputs": [],
   "source": [
    "import dlt\n",
    "fullpath = \"/Volumes/dlt-catalog/dlt-schema/ext-loc-volume/expect/\""
   ]
  },
  {
   "cell_type": "code",
   "execution_count": 0,
   "metadata": {
    "application/vnd.databricks.v1+cell": {
     "cellMetadata": {
      "byteLimit": 2048000,
      "rowLimit": 10000
     },
     "inputWidgets": {},
     "nuid": "8b797020-f5f2-4a14-8a7e-a98359bfaaf2",
     "showTitle": false,
     "tableResultSettingsMap": {},
     "title": ""
    }
   },
   "outputs": [],
   "source": [
    "@dlt.table(name = \"bronze_stream_data\")\n",
    "def stream_data ():\n",
    "    df = spark.readStream.format(\"cloudFiles\").option(\"cloudFiles.format\",\"csv\").option(\"header\",\"true\").option(\"sep\",\",\").load(fullpath)\n",
    "    return df"
   ]
  },
  {
   "cell_type": "code",
   "execution_count": 0,
   "metadata": {
    "application/vnd.databricks.v1+cell": {
     "cellMetadata": {},
     "inputWidgets": {},
     "nuid": "48875881-b683-4bf8-ab17-6189a5de62de",
     "showTitle": false,
     "tableResultSettingsMap": {},
     "title": ""
    }
   },
   "outputs": [],
   "source": [
    "checks = {}\n",
    "checks[\"check Gender col for null\"] = \"(Gender is not null)\"\n",
    "checks[\"check DOB col is int\"] = \"(CAST(DOB AS INT) IS NOT NULL)\""
   ]
  },
  {
   "cell_type": "code",
   "execution_count": 0,
   "metadata": {
    "application/vnd.databricks.v1+cell": {
     "cellMetadata": {},
     "inputWidgets": {},
     "nuid": "f67aceb6-58b5-4805-994e-658ac5d1ac92",
     "showTitle": false,
     "tableResultSettingsMap": {},
     "title": ""
    }
   },
   "outputs": [],
   "source": [
    "@dlt.view(name = \"bronze_stream_data_view\")\n",
    "@dlt.expect_all_or_drop(checks)\n",
    "def stream_data_view ():\n",
    "    df = dlt.readStream(\"bronze_stream_data\")\n",
    "    return df"
   ]
  },
  {
   "cell_type": "code",
   "execution_count": 0,
   "metadata": {
    "application/vnd.databricks.v1+cell": {
     "cellMetadata": {},
     "inputWidgets": {},
     "nuid": "c16b2ffa-065a-4a1d-afc3-dc8c91302a44",
     "showTitle": false,
     "tableResultSettingsMap": {},
     "title": ""
    }
   },
   "outputs": [],
   "source": [
    "@dlt.table(name = \"silver_stream_data\")\n",
    "def silver_stream_data():\n",
    "    df = dlt.readStream(\"bronze_stream_data_view\")\n",
    "    return df"
   ]
  },
  {
   "cell_type": "code",
   "execution_count": 0,
   "metadata": {
    "application/vnd.databricks.v1+cell": {
     "cellMetadata": {},
     "inputWidgets": {},
     "nuid": "3d788681-627c-43f1-b90a-99952f89341b",
     "showTitle": false,
     "tableResultSettingsMap": {},
     "title": ""
    }
   },
   "outputs": [],
   "source": [
    "@dlt.table(name = \"gold_stream_data\")\n",
    "@dlt.expect_or_fail(\"Checking for non corrupt records\",\"(_rescued_data IS NULL)\")\n",
    "def silver_stream_data():\n",
    "    df = dlt.readStream(\"silver_stream_data\")\n",
    "    return df"
   ]
  }
 ],
 "metadata": {
  "application/vnd.databricks.v1+notebook": {
   "computePreferences": null,
   "dashboards": [],
   "environmentMetadata": {
    "base_environment": "",
    "environment_version": "2"
   },
   "inputWidgetPreferences": null,
   "language": "python",
   "notebookMetadata": {
    "pythonIndentUnit": 4
   },
   "notebookName": "DLT_expect",
   "widgets": {}
  },
  "language_info": {
   "name": "python"
  }
 },
 "nbformat": 4,
 "nbformat_minor": 0
}
