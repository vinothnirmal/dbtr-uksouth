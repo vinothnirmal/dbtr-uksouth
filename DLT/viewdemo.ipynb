{
 "cells": [
  {
   "cell_type": "code",
   "execution_count": 0,
   "metadata": {
    "application/vnd.databricks.v1+cell": {
     "cellMetadata": {
      "byteLimit": 2048000,
      "rowLimit": 10000
     },
     "inputWidgets": {},
     "nuid": "8c72443b-4f59-4b2f-a519-12547d2a48ee",
     "showTitle": false,
     "tableResultSettingsMap": {},
     "title": ""
    }
   },
   "outputs": [],
   "source": [
    "import dlt"
   ]
  },
  {
   "cell_type": "code",
   "execution_count": 0,
   "metadata": {
    "application/vnd.databricks.v1+cell": {
     "cellMetadata": {
      "byteLimit": 2048000,
      "rowLimit": 10000
     },
     "inputWidgets": {},
     "nuid": "8934b7c7-32e1-4687-b28a-02d8546b7794",
     "showTitle": false,
     "tableResultSettingsMap": {},
     "title": ""
    }
   },
   "outputs": [],
   "source": [
    "def schema_check(schema_type):\n",
    "    try:\n",
    "        dlt.createSchema(schema_type)\n",
    "    except Exception as e:\n",
    "        if \"already exists\" in str(e):\n",
    "            pass\n",
    "        else:\n",
    "            print(\"Exception in bronze schema creation\",str(e))"
   ]
  },
  {
   "cell_type": "code",
   "execution_count": 0,
   "metadata": {
    "application/vnd.databricks.v1+cell": {
     "cellMetadata": {
      "byteLimit": 2048000,
      "rowLimit": 10000
     },
     "inputWidgets": {},
     "nuid": "5aecda81-8cca-4f5e-9479-ac05fe44d62e",
     "showTitle": false,
     "tableResultSettingsMap": {},
     "title": ""
    }
   },
   "outputs": [],
   "source": [
    "@dlt.table(name = \"bronze.bronze_Employee\")\n",
    "def bronze_employee():\n",
    "    schema_check(\"bronze\")\n",
    "    df = dlt.readStream(\"dltcatalog.dltschema.bronze_employee_scd2\")\n",
    "    return df"
   ]
  },
  {
   "cell_type": "code",
   "execution_count": 0,
   "metadata": {
    "application/vnd.databricks.v1+cell": {
     "cellMetadata": {
      "byteLimit": 2048000,
      "rowLimit": 10000
     },
     "inputWidgets": {},
     "nuid": "461e4c7f-735c-4d42-84ba-03126fbd06bc",
     "showTitle": false,
     "tableResultSettingsMap": {},
     "title": ""
    }
   },
   "outputs": [],
   "source": [
    "@dlt.view(name = \"bronze_Employee_view\")\n",
    "def bronze_employee_view():\n",
    "    df = dlt.readStream(\"bronze.bronze_Employee\")\n",
    "    df1 = df.filter((df.Gender == \"F\") & (df.DOB > 2000))\n",
    "    return df1"
   ]
  },
  {
   "cell_type": "code",
   "execution_count": 0,
   "metadata": {
    "application/vnd.databricks.v1+cell": {
     "cellMetadata": {},
     "inputWidgets": {},
     "nuid": "e46e2184-bd0b-4852-9c4a-d06d2310055c",
     "showTitle": false,
     "tableResultSettingsMap": {},
     "title": ""
    }
   },
   "outputs": [],
   "source": [
    "@dlt.table(name = \"silver.silver_Employee\")\n",
    "def silver_employee():\n",
    "    schema_check(\"silver\")\n",
    "    df = dlt.readStream(\"bronze_Employee_view\")\n",
    "    df1 = df.filter((df.Gender == \"F\") & (df.DOB >= 2020))\n",
    "    return df1"
   ]
  }
 ],
 "metadata": {
  "application/vnd.databricks.v1+notebook": {
   "computePreferences": null,
   "dashboards": [],
   "environmentMetadata": {
    "base_environment": "",
    "environment_version": "2"
   },
   "inputWidgetPreferences": null,
   "language": "python",
   "notebookMetadata": {
    "pythonIndentUnit": 4
   },
   "notebookName": "viewdemo",
   "widgets": {}
  },
  "language_info": {
   "name": "python"
  }
 },
 "nbformat": 4,
 "nbformat_minor": 0
}
